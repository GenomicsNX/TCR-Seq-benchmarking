{
 "cells": [
  {
   "cell_type": "code",
   "execution_count": 7,
   "metadata": {},
   "outputs": [
    {
     "data": {
      "text/html": [
       "<div>\n",
       "<style scoped>\n",
       "    .dataframe tbody tr th:only-of-type {\n",
       "        vertical-align: middle;\n",
       "    }\n",
       "\n",
       "    .dataframe tbody tr th {\n",
       "        vertical-align: top;\n",
       "    }\n",
       "\n",
       "    .dataframe thead th {\n",
       "        text-align: right;\n",
       "    }\n",
       "</style>\n",
       "<table border=\"1\" class=\"dataframe\">\n",
       "  <thead>\n",
       "    <tr style=\"text-align: right;\">\n",
       "      <th></th>\n",
       "      <th>Sample</th>\n",
       "      <th>CDR3</th>\n",
       "      <th>nReads</th>\n",
       "    </tr>\n",
       "  </thead>\n",
       "  <tbody>\n",
       "    <tr>\n",
       "      <th>0</th>\n",
       "      <td>MP_11-28_PBMC</td>\n",
       "      <td>CASRAGTAIWGYTF</td>\n",
       "      <td>1</td>\n",
       "    </tr>\n",
       "    <tr>\n",
       "      <th>1</th>\n",
       "      <td>MP_11-28_PBMC</td>\n",
       "      <td>CASSVADSNQPQHF</td>\n",
       "      <td>1</td>\n",
       "    </tr>\n",
       "    <tr>\n",
       "      <th>2</th>\n",
       "      <td>MP_11-28_PBMC</td>\n",
       "      <td>CASAGLSGANVLTF</td>\n",
       "      <td>1</td>\n",
       "    </tr>\n",
       "    <tr>\n",
       "      <th>3</th>\n",
       "      <td>MP_11-28_PBMC</td>\n",
       "      <td>CASGALAQETQYF</td>\n",
       "      <td>1</td>\n",
       "    </tr>\n",
       "    <tr>\n",
       "      <th>4</th>\n",
       "      <td>MP_11-28_PBMC</td>\n",
       "      <td>CASSPQGAMGQFF</td>\n",
       "      <td>1</td>\n",
       "    </tr>\n",
       "  </tbody>\n",
       "</table>\n",
       "</div>"
      ],
      "text/plain": [
       "          Sample            CDR3  nReads\n",
       "0  MP_11-28_PBMC  CASRAGTAIWGYTF       1\n",
       "1  MP_11-28_PBMC  CASSVADSNQPQHF       1\n",
       "2  MP_11-28_PBMC  CASAGLSGANVLTF       1\n",
       "3  MP_11-28_PBMC   CASGALAQETQYF       1\n",
       "4  MP_11-28_PBMC   CASSPQGAMGQFF       1"
      ]
     },
     "execution_count": 7,
     "metadata": {},
     "output_type": "execute_result"
    }
   ],
   "source": [
    "import pandas as pd\n",
    "import seaborn as sns\n",
    "\n",
    "IMREP_df = pd.read_csv(\"../summary_data/complete_sample/IMREP_merged_extracted_features.csv\")\n",
    "TRUST4_df = pd.read_csv(\"../summary_data/complete_sample/TRUST4_merged_extracted_features.csv\")\n",
    "MIXCR_df = pd.read_csv(\"../summary_data/complete_sample/MIXCR_merged_extracted_features.csv\")\n",
    "TCR_df = pd.read_csv(\"../summary_data/complete_sample/TCR_merged_extracted_features.csv\")\n",
    "\n",
    "TCR_df.head()"
   ]
  },
  {
   "cell_type": "code",
   "execution_count": null,
   "metadata": {},
   "outputs": [],
   "source": []
  }
 ],
 "metadata": {
  "kernelspec": {
   "display_name": "Python 3",
   "language": "python",
   "name": "python3"
  },
  "language_info": {
   "codemirror_mode": {
    "name": "ipython",
    "version": 3
   },
   "file_extension": ".py",
   "mimetype": "text/x-python",
   "name": "python",
   "nbconvert_exporter": "python",
   "pygments_lexer": "ipython3",
   "version": "3.6.8"
  }
 },
 "nbformat": 4,
 "nbformat_minor": 2
}
